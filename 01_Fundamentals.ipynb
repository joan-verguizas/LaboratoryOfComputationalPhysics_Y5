{
 "cells": [
  {
   "cell_type": "markdown",
   "metadata": {},
   "source": [
    "# Modules/packages/libraries\n",
    "\n",
    "Definitions:\n",
    "\n",
    "  * Modules:\n",
    "  A module is a file which contains python functions, global variables etc. It is nothing but .py file which has python executable code / statement.\n",
    "\n",
    "  * Packages:\n",
    "  A package is a namespace which contains multiple package/modules. It is a directory which contains a special file `__init__.py`\n",
    "  \n",
    "  * Libraries:\n",
    "  A library is a collection of various packages. There is no difference between package and python library conceptually.\n",
    "  \n",
    "Modules/packages/libraries can be easily \"imported\" and made functional in your python code. A set of libriaries comes with every python installation. Others can be installed locally and then imported. Your own code sitting somewhere else in your local computer can be imported too.\n",
    "\n",
    "Further details (very important!) on packages and how to create them can be found online. We may find the need of creating our own during the course."
   ]
  },
  {
   "cell_type": "code",
   "execution_count": 1,
   "metadata": {},
   "outputs": [
    {
     "name": "stdout",
     "output_type": "stream",
     "text": [
      "3.141592653589793\n",
      "3.141592653589793\n",
      "3.141592653589793\n"
     ]
    }
   ],
   "source": [
    "###### all the \"stuff\" that is in the math library can be used\n",
    "import math\n",
    "print(math.pi)\n",
    "\n",
    "# you can give math a label for convenience\n",
    "import math as m\n",
    "print (m.pi)\n",
    "\n",
    "# alternatively you can import only a given \"thing\" from the library\n",
    "from math import pi    #you can add several libraries at once, just list them separated by a \", \"\n",
    "print (pi)\n",
    "\n",
    "# or just get everything (very dangerous!!!)\n",
    "#from math import *\n",
    "#print (sqrt(7))"
   ]
  },
  {
   "cell_type": "markdown",
   "metadata": {},
   "source": [
    "To know which modules are there for you to use just type:"
   ]
  },
  {
   "cell_type": "code",
   "execution_count": 2,
   "metadata": {},
   "outputs": [
    {
     "name": "stdout",
     "output_type": "stream",
     "text": [
      "\n",
      "Please wait a moment while I gather a list of all available modules...\n",
      "\n"
     ]
    },
    {
     "name": "stderr",
     "output_type": "stream",
     "text": [
      "WARNING: AstropyDeprecationWarning: The private astropy._erfa module has been made into its own package, pyerfa, which is a dependency of astropy and can be imported directly using \"import erfa\" [astropy._erfa]\n",
      "/home/joan/anaconda3/lib/python3.9/site-packages/nltk/twitter/__init__.py:20: UserWarning: The twython library has not been installed. Some functionality from the twitter package will not be available.\n",
      "  warnings.warn(\n",
      "/home/joan/anaconda3/lib/python3.9/site-packages/_distutils_hack/__init__.py:30: UserWarning: Setuptools is replacing distutils.\n",
      "  warnings.warn(\"Setuptools is replacing distutils.\")\n",
      "No QCoreApplication instance found. Application patches not applied. You have to call load_stylesheet function after instantiation of QApplication to take effect. \n"
     ]
    },
    {
     "name": "stdout",
     "output_type": "stream",
     "text": [
      "Update LANGUAGE_CODES (inside config/base.py) if a new translation has been added to Spyder\n",
      "Cython              certifi             jupyterlab_widgets  rope\n",
      "IPython             cffi                jwt                 rsa\n",
      "OpenSSL             cgi                 keyring             rtree\n",
      "PIL                 cgitb               keyword             ruamel_yaml\n",
      "PyQt5               chardet             kiwisolver          runpy\n",
      "TBB                 charset_normalizer  lazy_object_proxy   s3transfer\n",
      "__future__          chunk               lib2to3             sched\n",
      "_abc                click               libarchive          scipy\n",
      "_aix_support        cloudpickle         libfuturize         scrapy\n",
      "_argon2_cffi_bindings clyent              libpasteurize       seaborn\n",
      "_ast                cmath               lief                secrets\n",
      "_asyncio            cmd                 linecache           secretstorage\n",
      "_bisect             code                llvmlite            select\n",
      "_black_version      codecs              locale              selectors\n",
      "_blake2             codeop              locket              send2trash\n",
      "_bootlocale         collections         logging             service_identity\n",
      "_bootsubprocess     colorama            lxml                setuptools\n",
      "_bz2                colorcet            lzma                shelve\n",
      "_cffi_backend       colorsys            mailbox             shlex\n",
      "_codecs             compileall          mailcap             shutil\n",
      "_codecs_cn          concurrent          markdown            signal\n",
      "_codecs_hk          conda               markupsafe          sip\n",
      "_codecs_iso2022     conda_build         marshal             sipconfig\n",
      "_codecs_jp          conda_content_trust math                sipdistutils\n",
      "_codecs_kr          conda_env           matplotlib          site\n",
      "_codecs_tw          conda_pack          matplotlib_inline   six\n",
      "_collections        conda_package_handling mccabe              skimage\n",
      "_collections_abc    conda_token         mimetypes           sklearn\n",
      "_compat_pickle      conda_verify        mistune             sklearnex\n",
      "_compression        configparser        mkl                 slugify\n",
      "_contextvars        constantly          mkl_fft             smart_open\n",
      "_crypt              contextlib          mkl_random          smtpd\n",
      "_csv                contextvars         mmap                smtplib\n",
      "_ctypes             cookiecutter        mock                snappy\n",
      "_ctypes_test        copy                modulefinder        sndhdr\n",
      "_curses             copyreg             mpmath              sniffio\n",
      "_curses_panel       crypt               msgpack             snowballstemmer\n",
      "_datetime           cryptography        multidict           socket\n",
      "_decimal            cssselect           multipledispatch    socketserver\n",
      "_distutils_hack     csv                 multiprocessing     socks\n",
      "_elementtree        ctypes              munkres             sockshandler\n",
      "_functools          curl                mypy_extensions     sortedcollections\n",
      "_hashlib            curses              navigator_updater   sortedcontainers\n",
      "_heapq              cycler              nbclassic           soupsieve\n",
      "_imp                cython              nbclient            sphinx\n",
      "_io                 cytoolz             nbconvert           spwd\n",
      "_json               daal4py             nbformat            spyder\n",
      "_locale             dask                nest_asyncio        spyder_kernels\n",
      "_lsprof             dataclasses         netrc               sqlalchemy\n",
      "_lzma               datashader          networkx            sqlite3\n",
      "_markupbase         datashape           nis                 sre_compile\n",
      "_md5                datetime            nltk                sre_constants\n",
      "_multibytecodec     dateutil            nntplib             sre_parse\n",
      "_multiprocessing    dbm                 nose                ssl\n",
      "_opcode             debugpy             notebook            stack_data\n",
      "_operator           decimal             ntpath              stat\n",
      "_osx_support        decorator           nturl2path          statistics\n",
      "_peg_parser         defusedxml          numba               statsmodels\n",
      "_pickle             diff_match_patch    numbergen           string\n",
      "_plotly_future_     difflib             numbers             stringprep\n",
      "_plotly_utils       dis                 numexpr             struct\n",
      "_posixshmem         distributed         numpy               subprocess\n",
      "_posixsubprocess    distutils           numpydoc            sunau\n",
      "_py_abc             doctest             olefile             symbol\n",
      "_pydecimal          docutils            onedal              sympy\n",
      "_pyio               email               opcode              symtable\n",
      "_pyrsistent_version encodings           openpyxl            sys\n",
      "_pytest             ensurepip           operator            sysconfig\n",
      "_queue              entrypoints         optparse            syslog\n",
      "_random             enum                os                  tables\n",
      "_sha1               erfa                ossaudiodev         tabnanny\n",
      "_sha256             errno               packaging           tabulate\n",
      "_sha3               et_xmlfile          pandas              tarfile\n",
      "_sha512             executing           pandocfilters       tbb\n",
      "_signal             fastjsonschema      panel               tblib\n",
      "_sitebuiltins       faulthandler        param               telnetlib\n",
      "_socket             fcntl               parsel              tempfile\n",
      "_sqlite3            filecmp             parser              tenacity\n",
      "_sre                fileinput           parso               terminado\n",
      "_ssl                filelock            partd               termios\n",
      "_stat               flake8              past                test\n",
      "_statistics         flask               pathlib             test_pycosat\n",
      "_string             fnmatch             pathspec            testpath\n",
      "_strptime           fontTools           patsy               text_unidecode\n",
      "_struct             formatter           pdb                 textdistance\n",
      "_symtable           fractions           pep8                textwrap\n",
      "_sysconfigdata__linux_x86_64-linux-gnu frozenlist          pexpect             this\n",
      "_sysconfigdata_x86_64_conda_cos6_linux_gnu fsspec              pickle              threading\n",
      "_sysconfigdata_x86_64_conda_cos7_linux_gnu ftplib              pickleshare         threadpoolctl\n",
      "_sysconfigdata_x86_64_conda_linux_gnu functools           pickletools         three_merge\n",
      "_testbuffer         future              pip                 tifffile\n",
      "_testcapi           gc                  pipes               time\n",
      "_testimportmultiple genericpath         pkg_resources       timeit\n",
      "_testinternalcapi   gensim              pkginfo             tinycss\n",
      "_testmultiphase     getopt              pkgutil             tkinter\n",
      "_thread             getpass             platform            tldextract\n",
      "_threading_local    gettext             plistlib            tlz\n",
      "_tkinter            glob                plotly              token\n",
      "_tracemalloc        glob2               pluggy              tokenize\n",
      "_uuid               gmpy2               poplib              toml\n",
      "_warnings           google_crc32c       posix               tomli\n",
      "_weakref            graphlib            posixpath           toolz\n",
      "_weakrefset         greenlet            poyo                tornado\n",
      "_xxsubinterpreters  grp                 pprint              tqdm\n",
      "_xxtestfuzz         grpc                profile             trace\n",
      "_yaml               gzip                prometheus_client   traceback\n",
      "_zoneinfo           h5py                prompt_toolkit      tracemalloc\n",
      "abc                 hamcrest            protego             traitlets\n",
      "aifc                hashlib             pstats              tty\n",
      "aiohttp             heapdict            psutil              turtle\n",
      "aiosignal           heapq               pty                 turtledemo\n",
      "alabaster           hmac                ptyprocess          twisted\n",
      "anaconda_navigator  holoviews           pure_eval           typed_ast\n",
      "anaconda_project    html                pvectorc            types\n",
      "antigravity         http                pwd                 typing\n",
      "anyio               hvplot              py                  typing_extensions\n",
      "appdirs             hyperlink           py_compile          ujson\n",
      "argon2              idlelib             pyasn1              unicodedata\n",
      "argparse            idna                pyasn1_modules      unidecode\n",
      "array               imagecodecs         pyclbr              unittest\n",
      "arrow               imageio             pycodestyle         urllib\n",
      "ast                 imagesize           pycosat             urllib3\n",
      "astroid             imaplib             pycparser           uu\n",
      "astropy             imghdr              pyct                uuid\n",
      "asttokens           imp                 pycurl              venv\n",
      "async_timeout       importlib           pydispatch          w3lib\n",
      "asynchat            importlib_metadata  pydoc               warnings\n",
      "asyncio             incremental         pydoc_data          watchdog\n",
      "asyncore            inflection          pydocstyle          wave\n",
      "atexit              iniconfig           pyexpat             wcwidth\n",
      "atomicwrites        inspect             pyflakes            weakref\n",
      "attr                intake              pygments            webbrowser\n",
      "attrs               intervaltree        pylab               webencodings\n",
      "audioop             io                  pylint              websocket\n",
      "automat             ipaddress           pyls_spyder         werkzeug\n",
      "autopep8            ipykernel           pylsp               wheel\n",
      "babel               ipykernel_launcher  pylsp_black         widgetsnbextension\n",
      "backcall            ipython_genutils    pylsp_jsonrpc       wrapt\n",
      "backports           ipywidgets          pyodbc              wsgiref\n",
      "base64              isort               pyparsing           wurlitzer\n",
      "bcrypt              isympy              pyrsistent          xarray\n",
      "bdb                 itemadapter         pytest              xdg\n",
      "binaryornot         itemloaders         pytz                xdrlib\n",
      "binascii            itertools           pyviz_comms         xlrd\n",
      "binhex              itsdangerous        pywt                xlsxwriter\n",
      "binstar_client      jdcal               pyximport           xml\n",
      "bisect              jedi                qdarkstyle          xmlrpc\n",
      "bitarray            jeepney             qstylizer           xxlimited\n",
      "bkcharts            jinja2              qtawesome           xxsubtype\n",
      "black               jinja2_time         qtconsole           yaml\n",
      "blackd              jmespath            qtpy                yapf\n",
      "bleach              joblib              queue               yapftests\n",
      "blib2to3            json                queuelib            yarl\n",
      "bokeh               json5               quopri              zict\n",
      "boto3               jsonschema          random              zipapp\n",
      "botocore            jupyter             re                  zipfile\n",
      "bottleneck          jupyter_client      readline            zipimport\n",
      "brotli              jupyter_console     regex               zipp\n",
      "bs4                 jupyter_core        repo_cli            zlib\n",
      "builtins            jupyter_server      reprlib             zmq\n",
      "bz2                 jupyterlab          requests            zoneinfo\n",
      "cProfile            jupyterlab_plotly   requests_file       zope\n",
      "cachetools          jupyterlab_pygments resource            \n",
      "calendar            jupyterlab_server   rlcompleter         \n",
      "\n",
      "Enter any module name to get more help.  Or, type \"modules spam\" to search\n",
      "for modules whose name or summary contain the string \"spam\".\n",
      "\n",
      "None\n"
     ]
    },
    {
     "name": "stderr",
     "output_type": "stream",
     "text": [
      "/home/joan/anaconda3/lib/python3.9/pkgutil.py:108: VisibleDeprecationWarning:\n",
      "\n",
      "zmq.eventloop.minitornado is deprecated in pyzmq 14.0 and will be removed.\n",
      "    Install tornado itself to use zmq with the tornado IOLoop.\n",
      "    \n",
      "\n"
     ]
    }
   ],
   "source": [
    "print (help('modules') )\n"
   ]
  },
  {
   "cell_type": "markdown",
   "metadata": {},
   "source": [
    "`pip` is a special package. It is used from the command line to install properly (e.g. matching the version of the local packages) new packages. It can also be used from within python to check i.e. the set installed packages and their versions. N.B.: only the installed packages on top of the default ones will be listed "
   ]
  },
  {
   "cell_type": "code",
   "execution_count": 3,
   "metadata": {},
   "outputs": [
    {
     "data": {
      "text/plain": [
       "['aiohttp==3.8.1',\n",
       " 'aiosignal==1.2.0',\n",
       " 'alabaster==0.7.12',\n",
       " 'anaconda-client==1.9.0',\n",
       " 'anaconda-navigator==2.1.4',\n",
       " 'anaconda-project==0.10.2',\n",
       " 'anyio==3.5.0',\n",
       " 'appdirs==1.4.4',\n",
       " 'argon2-cffi-bindings==21.2.0',\n",
       " 'argon2-cffi==21.3.0',\n",
       " 'arrow==1.2.2',\n",
       " 'astroid==2.6.6',\n",
       " 'astropy==5.0.4',\n",
       " 'asttokens==2.0.5',\n",
       " 'async-timeout==4.0.1',\n",
       " 'atomicwrites==1.4.0',\n",
       " 'attrs==21.4.0',\n",
       " 'automat==20.2.0',\n",
       " 'autopep8==1.6.0',\n",
       " 'babel==2.9.1',\n",
       " 'backcall==0.2.0',\n",
       " 'backports.functools-lru-cache==1.6.4',\n",
       " 'backports.tempfile==1.0',\n",
       " 'backports.weakref==1.0.post1',\n",
       " 'bcrypt==3.2.0',\n",
       " 'beautifulsoup4==4.11.1',\n",
       " 'binaryornot==0.4.4',\n",
       " 'bitarray==2.4.1',\n",
       " 'bkcharts==0.2',\n",
       " 'black==19.10b0',\n",
       " 'bleach==4.1.0',\n",
       " 'bokeh==2.4.2',\n",
       " 'boto3==1.21.32',\n",
       " 'botocore==1.24.32',\n",
       " 'bottleneck==1.3.4',\n",
       " 'brotlipy==0.7.0',\n",
       " 'cachetools==4.2.2',\n",
       " 'certifi==2021.10.8',\n",
       " 'cffi==1.15.0',\n",
       " 'chardet==4.0.0',\n",
       " 'charset-normalizer==2.0.4',\n",
       " 'click==8.0.4',\n",
       " 'cloudpickle==2.0.0',\n",
       " 'clyent==1.2.2',\n",
       " 'colorama==0.4.4',\n",
       " 'colorcet==2.0.6',\n",
       " 'conda-build==3.21.8',\n",
       " 'conda-content-trust==0+unknown',\n",
       " 'conda-pack==0.6.0',\n",
       " 'conda-package-handling==1.8.1',\n",
       " 'conda-repo-cli==1.0.4',\n",
       " 'conda-token==0.3.0',\n",
       " 'conda-verify==3.4.2',\n",
       " 'conda==4.12.0',\n",
       " 'constantly==15.1.0',\n",
       " 'cookiecutter==1.7.3',\n",
       " 'cryptography==3.4.8',\n",
       " 'cssselect==1.1.0',\n",
       " 'cycler==0.11.0',\n",
       " 'cython==0.29.28',\n",
       " 'cytoolz==0.11.0',\n",
       " 'daal4py==2021.5.0',\n",
       " 'dask==2022.2.1',\n",
       " 'datashader==0.13.0',\n",
       " 'datashape==0.5.4',\n",
       " 'debugpy==1.5.1',\n",
       " 'decorator==5.1.1',\n",
       " 'defusedxml==0.7.1',\n",
       " 'diff-match-patch==20200713',\n",
       " 'distributed==2022.2.1',\n",
       " 'docutils==0.17.1',\n",
       " 'entrypoints==0.4',\n",
       " 'et-xmlfile==1.1.0',\n",
       " 'executing==0.8.3',\n",
       " 'fastjsonschema==2.15.1',\n",
       " 'filelock==3.6.0',\n",
       " 'flake8==3.9.2',\n",
       " 'flask==1.1.2',\n",
       " 'fonttools==4.25.0',\n",
       " 'frozenlist==1.2.0',\n",
       " 'fsspec==2022.2.0',\n",
       " 'future==0.18.2',\n",
       " 'gensim==4.1.2',\n",
       " 'glob2==0.7',\n",
       " 'gmpy2==2.1.2',\n",
       " 'google-api-core==1.25.1',\n",
       " 'google-auth==1.33.0',\n",
       " 'google-cloud-core==1.7.1',\n",
       " 'google-cloud-storage==1.31.0',\n",
       " 'google-crc32c==1.1.2',\n",
       " 'google-resumable-media==1.3.1',\n",
       " 'googleapis-common-protos==1.53.0',\n",
       " 'greenlet==1.1.1',\n",
       " 'grpcio==1.42.0',\n",
       " 'h5py==3.6.0',\n",
       " 'heapdict==1.0.1',\n",
       " 'holoviews==1.14.8',\n",
       " 'hvplot==0.7.3',\n",
       " 'hyperlink==21.0.0',\n",
       " 'idna==3.3',\n",
       " 'imagecodecs==2021.8.26',\n",
       " 'imageio==2.9.0',\n",
       " 'imagesize==1.3.0',\n",
       " 'importlib-metadata==4.11.3',\n",
       " 'incremental==21.3.0',\n",
       " 'inflection==0.5.1',\n",
       " 'iniconfig==1.1.1',\n",
       " 'intake==0.6.5',\n",
       " 'intervaltree==3.1.0',\n",
       " 'ipykernel==6.9.1',\n",
       " 'ipython-genutils==0.2.0',\n",
       " 'ipython==8.2.0',\n",
       " 'ipywidgets==7.6.5',\n",
       " 'isort==5.9.3',\n",
       " 'itemadapter==0.3.0',\n",
       " 'itemloaders==1.0.4',\n",
       " 'itsdangerous==2.0.1',\n",
       " 'jdcal==1.4.1',\n",
       " 'jedi==0.18.1',\n",
       " 'jeepney==0.7.1',\n",
       " 'jinja2-time==0.2.0',\n",
       " 'jinja2==2.11.3',\n",
       " 'jmespath==0.10.0',\n",
       " 'joblib==1.1.0',\n",
       " 'json5==0.9.6',\n",
       " 'jsonschema==4.4.0',\n",
       " 'jupyter-client==6.1.12',\n",
       " 'jupyter-console==6.4.0',\n",
       " 'jupyter-core==4.9.2',\n",
       " 'jupyter-server==1.13.5',\n",
       " 'jupyter==1.0.0',\n",
       " 'jupyterlab-pygments==0.1.2',\n",
       " 'jupyterlab-server==2.10.3',\n",
       " 'jupyterlab-widgets==1.0.0',\n",
       " 'jupyterlab==3.3.2',\n",
       " 'keyring==23.4.0',\n",
       " 'kiwisolver==1.3.2',\n",
       " 'lazy-object-proxy==1.6.0',\n",
       " 'libarchive-c==2.9',\n",
       " 'llvmlite==0.38.0',\n",
       " 'locket==0.2.1',\n",
       " 'lxml==4.8.0',\n",
       " 'markdown==3.3.4',\n",
       " 'markupsafe==2.0.1',\n",
       " 'matplotlib-inline==0.1.2',\n",
       " 'matplotlib==3.5.1',\n",
       " 'mccabe==0.6.1',\n",
       " 'mistune==0.8.4',\n",
       " 'mkl-fft==1.3.1',\n",
       " 'mkl-random==1.2.2',\n",
       " 'mkl-service==2.4.0',\n",
       " 'mock==4.0.3',\n",
       " 'mpmath==1.2.1',\n",
       " 'msgpack==1.0.2',\n",
       " 'multidict==5.2.0',\n",
       " 'multipledispatch==0.6.0',\n",
       " 'munkres==1.1.4',\n",
       " 'mypy-extensions==0.4.3',\n",
       " 'navigator-updater==0.2.1',\n",
       " 'nbclassic==0.3.5',\n",
       " 'nbclient==0.5.13',\n",
       " 'nbconvert==6.4.4',\n",
       " 'nbformat==5.3.0',\n",
       " 'nest-asyncio==1.5.5',\n",
       " 'networkx==2.7.1',\n",
       " 'nltk==3.7',\n",
       " 'nose==1.3.7',\n",
       " 'notebook==6.4.8',\n",
       " 'numba==0.55.1',\n",
       " 'numexpr==2.8.1',\n",
       " 'numpy==1.21.5',\n",
       " 'numpydoc==1.2',\n",
       " 'olefile==0.46',\n",
       " 'openpyxl==3.0.9',\n",
       " 'packaging==21.3',\n",
       " 'pandas==1.4.2',\n",
       " 'pandocfilters==1.5.0',\n",
       " 'panel==0.13.0',\n",
       " 'param==1.12.0',\n",
       " 'parsel==1.6.0',\n",
       " 'parso==0.8.3',\n",
       " 'partd==1.2.0',\n",
       " 'pathspec==0.7.0',\n",
       " 'patsy==0.5.2',\n",
       " 'pep8==1.7.1',\n",
       " 'pexpect==4.8.0',\n",
       " 'pickleshare==0.7.5',\n",
       " 'pillow==9.0.1',\n",
       " 'pip==21.2.4',\n",
       " 'pkginfo==1.8.2',\n",
       " 'plotly==5.6.0',\n",
       " 'pluggy==1.0.0',\n",
       " 'poyo==0.5.0',\n",
       " 'prometheus-client==0.13.1',\n",
       " 'prompt-toolkit==3.0.20',\n",
       " 'protego==0.1.16',\n",
       " 'protobuf==3.19.1',\n",
       " 'psutil==5.8.0',\n",
       " 'ptyprocess==0.7.0',\n",
       " 'pure-eval==0.2.2',\n",
       " 'py==1.11.0',\n",
       " 'pyasn1-modules==0.2.8',\n",
       " 'pyasn1==0.4.8',\n",
       " 'pycodestyle==2.7.0',\n",
       " 'pycosat==0.6.3',\n",
       " 'pycparser==2.21',\n",
       " 'pyct==0.4.6',\n",
       " 'pycurl==7.44.1',\n",
       " 'pydispatcher==2.0.5',\n",
       " 'pydocstyle==6.1.1',\n",
       " 'pyerfa==2.0.0',\n",
       " 'pyflakes==2.3.1',\n",
       " 'pygments==2.11.2',\n",
       " 'pyhamcrest==2.0.2',\n",
       " 'pyjwt==2.1.0',\n",
       " 'pylint==2.9.6',\n",
       " 'pyls-spyder==0.4.0',\n",
       " 'pyodbc==4.0.32',\n",
       " 'pyopenssl==21.0.0',\n",
       " 'pyparsing==3.0.4',\n",
       " 'pyrsistent==0.18.0',\n",
       " 'pysocks==1.7.1',\n",
       " 'pytest==7.1.1',\n",
       " 'python-dateutil==2.8.2',\n",
       " 'python-lsp-black==1.0.0',\n",
       " 'python-lsp-jsonrpc==1.0.0',\n",
       " 'python-lsp-server==1.2.4',\n",
       " 'python-slugify==5.0.2',\n",
       " 'python-snappy==0.6.0',\n",
       " 'pytz==2021.3',\n",
       " 'pyviz-comms==2.0.2',\n",
       " 'pywavelets==1.3.0',\n",
       " 'pyxdg==0.27',\n",
       " 'pyyaml==6.0',\n",
       " 'pyzmq==22.3.0',\n",
       " 'qdarkstyle==3.0.2',\n",
       " 'qstylizer==0.1.10',\n",
       " 'qtawesome==1.0.3',\n",
       " 'qtconsole==5.3.0',\n",
       " 'qtpy==2.0.1',\n",
       " 'queuelib==1.5.0',\n",
       " 'regex==2022.3.15',\n",
       " 'requests-file==1.5.1',\n",
       " 'requests==2.27.1',\n",
       " 'rope==0.22.0',\n",
       " 'rsa==4.7.2',\n",
       " 'rtree==0.9.7',\n",
       " 'ruamel-yaml-conda==0.15.100',\n",
       " 's3transfer==0.5.0',\n",
       " 'scikit-image==0.19.2',\n",
       " 'scikit-learn-intelex==2021.20220215.212715',\n",
       " 'scikit-learn==1.0.2',\n",
       " 'scipy==1.7.3',\n",
       " 'scrapy==2.6.1',\n",
       " 'seaborn==0.11.2',\n",
       " 'secretstorage==3.3.1',\n",
       " 'send2trash==1.8.0',\n",
       " 'service-identity==18.1.0',\n",
       " 'setuptools==61.2.0',\n",
       " 'sip==4.19.13',\n",
       " 'six==1.16.0',\n",
       " 'smart-open==5.1.0',\n",
       " 'sniffio==1.2.0',\n",
       " 'snowballstemmer==2.2.0',\n",
       " 'sortedcollections==2.1.0',\n",
       " 'sortedcontainers==2.4.0',\n",
       " 'soupsieve==2.3.1',\n",
       " 'sphinx==4.4.0',\n",
       " 'sphinxcontrib-applehelp==1.0.2',\n",
       " 'sphinxcontrib-devhelp==1.0.2',\n",
       " 'sphinxcontrib-htmlhelp==2.0.0',\n",
       " 'sphinxcontrib-jsmath==1.0.1',\n",
       " 'sphinxcontrib-qthelp==1.0.3',\n",
       " 'sphinxcontrib-serializinghtml==1.1.5',\n",
       " 'spyder-kernels==2.1.3',\n",
       " 'spyder==5.1.5',\n",
       " 'sqlalchemy==1.4.32',\n",
       " 'stack-data==0.2.0',\n",
       " 'statsmodels==0.13.2',\n",
       " 'sympy==1.10.1',\n",
       " 'tables==3.6.1',\n",
       " 'tabulate==0.8.9',\n",
       " 'tbb==0.2',\n",
       " 'tblib==1.7.0',\n",
       " 'tenacity==8.0.1',\n",
       " 'terminado==0.13.1',\n",
       " 'testpath==0.5.0',\n",
       " 'text-unidecode==1.3',\n",
       " 'textdistance==4.2.1',\n",
       " 'threadpoolctl==2.2.0',\n",
       " 'three-merge==0.1.1',\n",
       " 'tifffile==2021.7.2',\n",
       " 'tinycss==0.4',\n",
       " 'tldextract==3.2.0',\n",
       " 'toml==0.10.2',\n",
       " 'tomli==1.2.2',\n",
       " 'toolz==0.11.2',\n",
       " 'tornado==6.1',\n",
       " 'tqdm==4.64.0',\n",
       " 'traitlets==5.1.1',\n",
       " 'twisted==22.2.0',\n",
       " 'typed-ast==1.4.3',\n",
       " 'typing-extensions==4.1.1',\n",
       " 'ujson==5.1.0',\n",
       " 'unidecode==1.2.0',\n",
       " 'urllib3==1.26.9',\n",
       " 'w3lib==1.21.0',\n",
       " 'watchdog==2.1.6',\n",
       " 'wcwidth==0.2.5',\n",
       " 'webencodings==0.5.1',\n",
       " 'websocket-client==0.58.0',\n",
       " 'werkzeug==2.0.3',\n",
       " 'wheel==0.37.1',\n",
       " 'widgetsnbextension==3.5.2',\n",
       " 'wrapt==1.12.1',\n",
       " 'wurlitzer==3.0.2',\n",
       " 'xarray==0.20.1',\n",
       " 'xlrd==2.0.1',\n",
       " 'xlsxwriter==3.0.3',\n",
       " 'yapf==0.31.0',\n",
       " 'yarl==1.6.3',\n",
       " 'zict==2.0.0',\n",
       " 'zipp==3.7.0',\n",
       " 'zope.interface==5.4.0']"
      ]
     },
     "execution_count": 3,
     "metadata": {},
     "output_type": "execute_result"
    }
   ],
   "source": [
    "import pip\n",
    "sorted([\"%s==%s\" % (i.key, i.version) for i in pip._internal.utils.misc.get_installed_distributions()])"
   ]
  },
  {
   "cell_type": "markdown",
   "metadata": {},
   "source": [
    "# Functions"
   ]
  },
  {
   "cell_type": "code",
   "execution_count": 4,
   "metadata": {},
   "outputs": [
    {
     "name": "stdout",
     "output_type": "stream",
     "text": [
      "9\n",
      "27\n",
      "cube 27\n",
      "square 9\n"
     ]
    }
   ],
   "source": [
    "def square(x):\n",
    "    \"\"\"Square of x.\"\"\"\n",
    "    return x*x\n",
    "\n",
    "def cube(x):\n",
    "    \"\"\"Cube of x.\"\"\"\n",
    "    return x*x*x\n",
    "\n",
    "# create a dictionary of functions\n",
    "funcs = {\n",
    "    'square': square,\n",
    "    'cube': cube,\n",
    "}\n",
    "\n",
    "x = 3\n",
    "print(square(x))\n",
    "print(cube(x))\n",
    "\n",
    "for func in sorted(funcs):\n",
    "    print (func, funcs[func](x))"
   ]
  },
  {
   "cell_type": "markdown",
   "metadata": {},
   "source": [
    "## Functions arguments"
   ]
  },
  {
   "cell_type": "markdown",
   "metadata": {},
   "source": [
    "What is passsed to a function is a copy of the input. Imagine we have a list *x =[1, 2, 3]*, i.e. a mutable object. If within the function the content of *x* is directly changed (e.g. *x[0] = 999*), then *x* changes outside the funciton as well. "
   ]
  },
  {
   "cell_type": "code",
   "execution_count": 5,
   "metadata": {},
   "outputs": [
    {
     "name": "stdout",
     "output_type": "stream",
     "text": [
      "[1, 2, 3]\n",
      "[999, 2, 3]\n",
      "[999, 2, 3]\n"
     ]
    }
   ],
   "source": [
    "def modify(x):\n",
    "    x[0] = 999\n",
    "    return x\n",
    "\n",
    "x = [1,2,3]\n",
    "print (x)\n",
    "print (modify(x))\n",
    "print (x)"
   ]
  },
  {
   "cell_type": "markdown",
   "metadata": {},
   "source": [
    "However, if *x* is reassigned within the function to a new object (e.g. another list), then the copy of the name *x* now points to the new object, but *x* outside the function is unhcanged."
   ]
  },
  {
   "cell_type": "code",
   "execution_count": 6,
   "metadata": {},
   "outputs": [
    {
     "name": "stdout",
     "output_type": "stream",
     "text": [
      "[1, 2, 3]\n",
      "[4, 5, 6]\n",
      "[1, 2, 3]\n"
     ]
    }
   ],
   "source": [
    "def no_modify(x):\n",
    "    x = [4,5,6]\n",
    "    return x\n",
    "\n",
    "x = [1,2,3]\n",
    "print (x)\n",
    "print (no_modify(x))\n",
    "print (x)\n"
   ]
  },
  {
   "cell_type": "markdown",
   "metadata": {},
   "source": [
    "What if the function tries to modify the value of an immutable object?"
   ]
  },
  {
   "cell_type": "markdown",
   "metadata": {},
   "source": [
    "Binding of default arguments occurs at function definition:"
   ]
  },
  {
   "cell_type": "code",
   "execution_count": 8,
   "metadata": {},
   "outputs": [
    {
     "name": "stdout",
     "output_type": "stream",
     "text": [
      "[1]\n",
      "[1, 1]\n",
      "[9, 9, 9, 1]\n",
      "[1, 1, 1]\n",
      "[1, 1, 1, 1]\n"
     ]
    }
   ],
   "source": [
    "def f(x = []):\n",
    "    x.append(1)\n",
    "    return x\n",
    "\n",
    "print (f())\n",
    "print (f())\n",
    "print (f(x = [9,9,9]))\n",
    "print (f())\n",
    "print (f())"
   ]
  },
  {
   "cell_type": "markdown",
   "metadata": {},
   "source": [
    "Try to aviod that!!"
   ]
  },
  {
   "cell_type": "code",
   "execution_count": 9,
   "metadata": {},
   "outputs": [
    {
     "name": "stdout",
     "output_type": "stream",
     "text": [
      "[1]\n",
      "[1]\n",
      "[9, 9, 9, 1]\n",
      "[1]\n",
      "[1]\n"
     ]
    }
   ],
   "source": [
    "def f(x = None):\n",
    "    if x is None:\n",
    "        x = []\n",
    "    x.append(1)\n",
    "    return x\n",
    "\n",
    "print (f())\n",
    "print (f())\n",
    "print (f(x = [9,9,9]))\n",
    "print (f())\n",
    "print (f())"
   ]
  },
  {
   "cell_type": "markdown",
   "metadata": {},
   "source": [
    "## Higher order functions\n",
    "\n",
    "A function that uses another function as an input argument or returns a function is known as a higher-order function (HOF). The most familiar examples are `map` and `filter`."
   ]
  },
  {
   "cell_type": "markdown",
   "metadata": {},
   "source": [
    "### map\n",
    "\n",
    "The map function applies a function to each member of a collection"
   ]
  },
  {
   "cell_type": "code",
   "execution_count": 10,
   "metadata": {},
   "outputs": [
    {
     "name": "stdout",
     "output_type": "stream",
     "text": [
      "[0, 1, 4, 9, 16]\n",
      "0\n",
      "1\n",
      "4\n",
      "9\n",
      "16\n"
     ]
    },
    {
     "data": {
      "text/plain": [
       "[0, 1, 4, 9, 16, 25]"
      ]
     },
     "execution_count": 10,
     "metadata": {},
     "output_type": "execute_result"
    }
   ],
   "source": [
    "x = list(map(square, range(5))) \n",
    "print (x)\n",
    "\n",
    "# Note the difference w.r.t python 2. In python 3 map retuns an iterator so you can do stuff like:\n",
    "for i in map(square,range(5)): print(i)\n",
    "\n",
    "# or\n",
    "[i for i in map(square,range(6))]"
   ]
  },
  {
   "cell_type": "markdown",
   "metadata": {},
   "source": [
    "### filter\n",
    "\n",
    "The filter function applies a predicate to each member of a collection, retaining only those members where the predicate is True"
   ]
  },
  {
   "cell_type": "code",
   "execution_count": 11,
   "metadata": {},
   "outputs": [
    {
     "name": "stdout",
     "output_type": "stream",
     "text": [
      "[0, 2, 4]\n"
     ]
    }
   ],
   "source": [
    "def is_even(x):\n",
    "    return x%2 == 0\n",
    "\n",
    "print (list(filter(is_even, range(5))))"
   ]
  },
  {
   "cell_type": "markdown",
   "metadata": {},
   "source": [
    "Combinations in sequence of HOF are obviously possible"
   ]
  },
  {
   "cell_type": "code",
   "execution_count": 12,
   "metadata": {},
   "outputs": [
    {
     "data": {
      "text/plain": [
       "[0, 4, 16]"
      ]
     },
     "execution_count": 12,
     "metadata": {},
     "output_type": "execute_result"
    }
   ],
   "source": [
    "list(map(square, filter(is_even, range(5))))"
   ]
  },
  {
   "cell_type": "markdown",
   "metadata": {},
   "source": [
    "### reduce\n",
    "\n",
    "The reduce function reduces a collection using a binary operator to combine items two at a time. More often than not reduce can be substituted with a more efficient for loop. It is worth mentioning it for its key role in big-data applications together with map (the map-reduce paradigm). \n",
    "N.B.: it no loger exist as built-in function in python 3, it is now part of the `functools` library"
   ]
  },
  {
   "cell_type": "code",
   "execution_count": 13,
   "metadata": {},
   "outputs": [
    {
     "data": {
      "text/plain": [
       "15"
      ]
     },
     "execution_count": 13,
     "metadata": {},
     "output_type": "execute_result"
    }
   ],
   "source": [
    "from functools import reduce\n",
    "\n",
    "def my_add(x, y):\n",
    "    return x + y\n",
    "\n",
    "# another implementation of the sum function\n",
    "reduce(my_add, [1,2,3,4,5])"
   ]
  },
  {
   "cell_type": "markdown",
   "metadata": {},
   "source": [
    "### zip\n",
    "\n",
    "zip is useful when you need to iterate over matched elements of multiple lists"
   ]
  },
  {
   "cell_type": "code",
   "execution_count": 17,
   "metadata": {},
   "outputs": [
    {
     "name": "stdout",
     "output_type": "stream",
     "text": [
      "1 10 a\n",
      "2 20 b\n",
      "3 30 c\n",
      "4 40 d\n"
     ]
    }
   ],
   "source": [
    "xs = [1, 2, 3, 4]\n",
    "ys = [10, 20, 30, 40]\n",
    "zs = ['a', 'b', 'c', 'd', 'e']\n",
    "\n",
    "for x, y, z in zip(xs, ys, zs):\n",
    "    print (x, y, z)"
   ]
  },
  {
   "cell_type": "markdown",
   "metadata": {},
   "source": [
    "### Custom HOF"
   ]
  },
  {
   "cell_type": "code",
   "execution_count": 15,
   "metadata": {},
   "outputs": [
    {
     "name": "stdout",
     "output_type": "stream",
     "text": [
      "30\n",
      "100\n"
     ]
    }
   ],
   "source": [
    "def custom_sum(xs, transform):\n",
    "    \"\"\"Returns the sum of xs after a user specified transform.\"\"\"\n",
    "    return sum(map(transform, xs))\n",
    "\n",
    "xs = range(5)\n",
    "print (custom_sum(xs, square))\n",
    "print (custom_sum(xs, cube))\n",
    "\n"
   ]
  },
  {
   "cell_type": "markdown",
   "metadata": {},
   "source": [
    "### Returning a function"
   ]
  },
  {
   "cell_type": "code",
   "execution_count": 18,
   "metadata": {},
   "outputs": [],
   "source": [
    "def make_logger(target):\n",
    "    def logger(data):\n",
    "        with open(target, 'a') as f:\n",
    "            f.write(data + '\\n')\n",
    "    return logger\n",
    "\n",
    "foo_logger = make_logger('foo.txt') #foo.txt will be created if not there already\n",
    "foo_logger('Hello')\n",
    "foo_logger('World')"
   ]
  },
  {
   "cell_type": "code",
   "execution_count": 19,
   "metadata": {},
   "outputs": [
    {
     "name": "stdout",
     "output_type": "stream",
     "text": [
      "Hello\r\n",
      "World\r\n"
     ]
    }
   ],
   "source": [
    "! cat 'foo.txt' # ! cat is a bash function of ipynb to see what is in a file"
   ]
  },
  {
   "cell_type": "markdown",
   "metadata": {},
   "source": [
    "## Anonimous functions (lambda)\n",
    "\n",
    "When using functional style, there is often the need to create specific functions that perform a limited task as input to a HOF such as map or filter. In such cases, these functions are often written as anonymous or lambda functions. \n",
    "The syntax is as follows:\n",
    "\n",
    "lambda *arguments* : *expression*\n",
    "\n",
    "\n",
    "If you find it hard to understand what a lambda function is doing, it should probably be rewritten as a regular function."
   ]
  },
  {
   "cell_type": "code",
   "execution_count": 21,
   "metadata": {},
   "outputs": [
    {
     "data": {
      "text/plain": [
       "7"
      ]
     },
     "execution_count": 21,
     "metadata": {},
     "output_type": "execute_result"
    }
   ],
   "source": [
    "summ = lambda x,y: x+y\n",
    "summ(3,4)"
   ]
  },
  {
   "cell_type": "code",
   "execution_count": 22,
   "metadata": {},
   "outputs": [
    {
     "name": "stdout",
     "output_type": "stream",
     "text": [
      "0\n",
      "1\n",
      "4\n",
      "9\n",
      "16\n"
     ]
    }
   ],
   "source": [
    "for i in map(lambda x: x*x, range(5)): print (i)"
   ]
  },
  {
   "cell_type": "code",
   "execution_count": 23,
   "metadata": {},
   "outputs": [
    {
     "name": "stdout",
     "output_type": "stream",
     "text": [
      "285\n"
     ]
    }
   ],
   "source": [
    "# what does this function do?\n",
    "from functools import reduce\n",
    "s1 = reduce(lambda x, y: x+y, map(lambda x: x**2, range(1,10)))\n",
    "print(s1)\n",
    "\n",
    "# iterator 1, 10\n",
    "# squared it -> 1, 4, 9, 16, 25, 36, 49, 64, 81, 100\n",
    "# sum it and reduce it "
   ]
  },
  {
   "cell_type": "markdown",
   "metadata": {},
   "source": [
    "## Recursive functions "
   ]
  },
  {
   "cell_type": "code",
   "execution_count": 24,
   "metadata": {},
   "outputs": [
    {
     "name": "stdout",
     "output_type": "stream",
     "text": [
      "[1, 1, 2, 3, 5, 8, 13, 21, 34, 55]\n"
     ]
    }
   ],
   "source": [
    "def fib1(n):\n",
    "    \"\"\"Fib with recursion.\"\"\"\n",
    "\n",
    "    # base case\n",
    "    if n==0 or n==1:\n",
    "        return 1\n",
    "    # recursive case\n",
    "    else:\n",
    "        return fib1(n-1) + fib1(n-2)\n",
    "\n",
    "    \n",
    "print ([fib1(i) for i in range(10)])"
   ]
  },
  {
   "cell_type": "code",
   "execution_count": 25,
   "metadata": {},
   "outputs": [
    {
     "name": "stdout",
     "output_type": "stream",
     "text": [
      "[1, 1, 2, 3, 5, 8, 13, 21, 34, 55]\n"
     ]
    }
   ],
   "source": [
    "# In Python, a more efficient version that does not use recursion is\n",
    "\n",
    "def fib2(n):\n",
    "    \"\"\"Fib without recursion.\"\"\"\n",
    "    a, b = 0, 1\n",
    "    for i in range(1, n+1):\n",
    "        a, b = b, a+b\n",
    "    return b\n",
    "\n",
    "print ([fib2(i) for i in range(10)])"
   ]
  },
  {
   "cell_type": "code",
   "execution_count": 26,
   "metadata": {},
   "outputs": [
    {
     "name": "stdout",
     "output_type": "stream",
     "text": [
      "1.69 ms ± 10.2 µs per loop (mean ± std. dev. of 7 runs, 1,000 loops each)\n",
      "815 ns ± 9 ns per loop (mean ± std. dev. of 7 runs, 1,000,000 loops each)\n"
     ]
    }
   ],
   "source": [
    "# check indeed the timing:\n",
    "\n",
    "%timeit fib1(20)\n",
    "%timeit fib2(20)\n"
   ]
  },
  {
   "cell_type": "markdown",
   "metadata": {},
   "source": [
    "## Iterators\n",
    "\n",
    "Iterators represent streams of values. Because only one value is consumed at a time, they use very little memory. Use of iterators is very helpful for working with data sets too large to fit into RAM."
   ]
  },
  {
   "cell_type": "code",
   "execution_count": 27,
   "metadata": {},
   "outputs": [
    {
     "name": "stdout",
     "output_type": "stream",
     "text": [
      "1\n",
      "2\n",
      "3\n"
     ]
    },
    {
     "ename": "StopIteration",
     "evalue": "",
     "output_type": "error",
     "traceback": [
      "\u001b[0;31m---------------------------------------------------------------------------\u001b[0m",
      "\u001b[0;31mStopIteration\u001b[0m                             Traceback (most recent call last)",
      "Input \u001b[0;32mIn [27]\u001b[0m, in \u001b[0;36m<cell line: 9>\u001b[0;34m()\u001b[0m\n\u001b[1;32m      7\u001b[0m \u001b[38;5;28mprint\u001b[39m (\u001b[38;5;28mnext\u001b[39m(x_iter))\n\u001b[1;32m      8\u001b[0m \u001b[38;5;28mprint\u001b[39m (\u001b[38;5;28mnext\u001b[39m(x_iter))\n\u001b[0;32m----> 9\u001b[0m \u001b[38;5;28mprint\u001b[39m (\u001b[38;5;28;43mnext\u001b[39;49m\u001b[43m(\u001b[49m\u001b[43mx_iter\u001b[49m\u001b[43m)\u001b[49m)\n",
      "\u001b[0;31mStopIteration\u001b[0m: "
     ]
    }
   ],
   "source": [
    "# Iterators can be created from sequences with the built-in function iter()\n",
    "\n",
    "xs = [1,2,3]\n",
    "x_iter = iter(xs)\n",
    "\n",
    "print (next(x_iter))\n",
    "print (next(x_iter))\n",
    "print (next(x_iter))\n",
    "print (next(x_iter))"
   ]
  },
  {
   "cell_type": "code",
   "execution_count": 28,
   "metadata": {},
   "outputs": [
    {
     "name": "stdout",
     "output_type": "stream",
     "text": [
      "1\n",
      "2\n",
      "3\n"
     ]
    }
   ],
   "source": [
    "# Most commonly, iterators are used (automatically) within a for loop\n",
    "# which terminates when it encouters a StopIteration exception\n",
    "\n",
    "x_iter = iter(xs)\n",
    "for x in x_iter:\n",
    "    print (x)"
   ]
  },
  {
   "cell_type": "markdown",
   "metadata": {},
   "source": [
    "## More on comprehensions"
   ]
  },
  {
   "cell_type": "code",
   "execution_count": 29,
   "metadata": {},
   "outputs": [
    {
     "name": "stdout",
     "output_type": "stream",
     "text": [
      "<generator object <genexpr> at 0x7f7bfecdfac0>\n",
      "[0, 1, 2, 3, 4, 5, 6, 7, 8, 9]\n",
      "{0, 1, 2, 3, 4, 5, 6, 7, 8, 9}\n",
      "{0: 'x', 1: 'x', 2: 'x', 3: 'x', 4: 'x', 5: 'x', 6: 'x', 7: 'x', 8: 'x', 9: 'x'}\n"
     ]
    }
   ],
   "source": [
    "# A generator expression\n",
    "\n",
    "print ((x for x in range(10)))\n",
    "\n",
    "# A list comprehesnnion\n",
    "\n",
    "print ([x for x in range(10)])\n",
    "\n",
    "# A set comprehension\n",
    "\n",
    "print ({x for x in range(10)})\n",
    "\n",
    "# A dictionary comprehension\n",
    "\n",
    "print ({x: \"x\" for x in range(10)})"
   ]
  },
  {
   "cell_type": "markdown",
   "metadata": {},
   "source": [
    "## Useful Modules\n",
    "\n",
    "You may want to have a look at the content of the following modules for further usage of (HO) functions:\n",
    "  - [operator](https://docs.python.org/3/library/operator.html)\n",
    "  - [functools](https://docs.python.org/3/library/functools.html)\n",
    "  - [itertools](https://docs.python.org/3/library/itertools.html)\n",
    "  - [toolz](https://pypi.org/project/toolz/)\n",
    "  - [funcy](https://pypi.org/project/funcy/)"
   ]
  },
  {
   "cell_type": "markdown",
   "metadata": {},
   "source": [
    "## Decorators\n",
    "\n",
    "Decorators are a type of HOF that take a function and return a wrapped function that provides additional useful properties.\n",
    "\n",
    "Examples:\n",
    "\n",
    "  - logging\n",
    "  - profiling\n",
    "  - Just-In-Time (JIT) compilation"
   ]
  },
  {
   "cell_type": "code",
   "execution_count": 30,
   "metadata": {},
   "outputs": [],
   "source": [
    "def my_decorator(func):\n",
    "    def wrapper():\n",
    "        print(\"Something is happening before the function is called.\")\n",
    "        func()\n",
    "        print(\"Something is happening after the function is called.\")\n",
    "    return wrapper\n",
    "\n",
    "def say_whee():\n",
    "    print(\"Whee!\")\n",
    "\n",
    "say_whee = my_decorator(say_whee)"
   ]
  },
  {
   "cell_type": "code",
   "execution_count": 31,
   "metadata": {},
   "outputs": [
    {
     "name": "stdout",
     "output_type": "stream",
     "text": [
      "Something is happening before the function is called.\n",
      "Whee!\n",
      "Something is happening after the function is called.\n"
     ]
    }
   ],
   "source": [
    "say_whee()"
   ]
  },
  {
   "cell_type": "markdown",
   "metadata": {},
   "source": [
    "Python allows you to use decorators in a simpler way with the @ symbol, sometimes called the “pie” syntax"
   ]
  },
  {
   "cell_type": "code",
   "execution_count": 32,
   "metadata": {},
   "outputs": [],
   "source": [
    "def my_decorator(func):\n",
    "    def wrapper():\n",
    "        print(\"Something is happening before the function is called.\")\n",
    "        func()\n",
    "        print(\"Something is happening after the function is called.\")\n",
    "    return wrapper\n",
    "\n",
    "@my_decorator\n",
    "def say_whee():\n",
    "    print(\"Whee!\")"
   ]
  },
  {
   "cell_type": "code",
   "execution_count": 33,
   "metadata": {},
   "outputs": [
    {
     "name": "stdout",
     "output_type": "stream",
     "text": [
      "Something is happening before the function is called.\n",
      "Whee!\n",
      "Something is happening after the function is called.\n"
     ]
    }
   ],
   "source": [
    "say_whee()"
   ]
  },
  {
   "cell_type": "markdown",
   "metadata": {},
   "source": [
    "# Classes and Objects\n",
    "\n",
    "Old school object-oriented programming is possible and often used in python. Classes are defined similarly to standard object-oriented languages, with similar functionalities.\n",
    "\n",
    "The main python doc [page](https://docs.python.org/3/tutorial/classes.html) is worth reading through "
   ]
  },
  {
   "cell_type": "code",
   "execution_count": 34,
   "metadata": {},
   "outputs": [
    {
     "name": "stdout",
     "output_type": "stream",
     "text": [
      "buddy 12\n",
      "3\n"
     ]
    }
   ],
   "source": [
    "class Pet:\n",
    "    # the \"constructor\"\n",
    "    def __init__(self, name, age):  #inizialize the elements of the class\n",
    "        self.name=name\n",
    "        self.age=age\n",
    "    # class functions take the \"self\" parameter !!!\n",
    "    def set_name(self,name):\n",
    "        self.name=name\n",
    "    def convert_age(self,factor):\n",
    "        self.age*=factor\n",
    "\n",
    "buddy=Pet(\"buddy\",12)\n",
    "print (buddy.name, buddy.age)\n",
    "buddy.age=3\n",
    "print (buddy.age)\n",
    "\n"
   ]
  },
  {
   "cell_type": "code",
   "execution_count": 35,
   "metadata": {},
   "outputs": [
    {
     "name": "stdout",
     "output_type": "stream",
     "text": [
      "tobia\n",
      "70\n"
     ]
    }
   ],
   "source": [
    "# ineritance is straightforward\n",
    "class Dog(Pet):\n",
    "    # the following variables is \"global\", i.e. holds for all \"Dog\" objects\n",
    "    species = \"mammal\"\n",
    "    # functions can be redefined as usual\n",
    "    def convert_age(self):\n",
    "        self.age*=7\n",
    "    def set_species(self, species):\n",
    "        self.species = species\n",
    "        \n",
    "puppy=Dog(\"tobia\",10)\n",
    "print(puppy.name)\n",
    "puppy.convert_age()\n",
    "print(puppy.age)\n",
    "\n"
   ]
  },
  {
   "cell_type": "code",
   "execution_count": null,
   "metadata": {},
   "outputs": [],
   "source": []
  }
 ],
 "metadata": {
  "kernelspec": {
   "display_name": "Python 3 (ipykernel)",
   "language": "python",
   "name": "python3"
  },
  "language_info": {
   "codemirror_mode": {
    "name": "ipython",
    "version": 3
   },
   "file_extension": ".py",
   "mimetype": "text/x-python",
   "name": "python",
   "nbconvert_exporter": "python",
   "pygments_lexer": "ipython3",
   "version": "3.9.12"
  }
 },
 "nbformat": 4,
 "nbformat_minor": 2
}
