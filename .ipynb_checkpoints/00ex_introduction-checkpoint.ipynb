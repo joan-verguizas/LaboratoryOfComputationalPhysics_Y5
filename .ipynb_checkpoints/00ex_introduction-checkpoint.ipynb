{
 "cells": [
  {
   "cell_type": "markdown",
   "metadata": {},
   "source": [
    "1. The MickeyMouse problem\n",
    "\n",
    "a) Write a program that prints the numbers from 1 to 100. But for multiples of 3 print `Mickey` instead of the corresponding number and for the multiples of 5 print `Mouse`. For numbers which are multiples of both three and five print `MickeyMouse`\n",
    "\n",
    "b) Put the result in a tuple and substitute `Mickey` with `Donald` and `Mouse` with `Duck`"
   ]
  },
  {
   "cell_type": "markdown",
   "metadata": {},
   "source": [
    "##### a)"
   ]
  },
  {
   "cell_type": "code",
   "execution_count": 4,
   "metadata": {},
   "outputs": [
    {
     "name": "stdout",
     "output_type": "stream",
     "text": [
      "1\n",
      "2\n",
      "Mickey\n",
      "4\n",
      "Mouse\n",
      "Mickey\n",
      "7\n",
      "8\n",
      "Mickey\n",
      "Mouse\n",
      "11\n",
      "Mickey\n",
      "13\n",
      "14\n",
      "MickeyMouse\n",
      "16\n",
      "17\n",
      "Mickey\n",
      "19\n",
      "Mouse\n",
      "Mickey\n",
      "22\n",
      "23\n",
      "Mickey\n",
      "Mouse\n",
      "26\n",
      "Mickey\n",
      "28\n",
      "29\n",
      "MickeyMouse\n",
      "31\n",
      "32\n",
      "Mickey\n",
      "34\n",
      "Mouse\n",
      "Mickey\n",
      "37\n",
      "38\n",
      "Mickey\n",
      "Mouse\n",
      "41\n",
      "Mickey\n",
      "43\n",
      "44\n",
      "MickeyMouse\n",
      "46\n",
      "47\n",
      "Mickey\n",
      "49\n",
      "Mouse\n",
      "Mickey\n",
      "52\n",
      "53\n",
      "Mickey\n",
      "Mouse\n",
      "56\n",
      "Mickey\n",
      "58\n",
      "59\n",
      "MickeyMouse\n",
      "61\n",
      "62\n",
      "Mickey\n",
      "64\n",
      "Mouse\n",
      "Mickey\n",
      "67\n",
      "68\n",
      "Mickey\n",
      "Mouse\n",
      "71\n",
      "Mickey\n",
      "73\n",
      "74\n",
      "MickeyMouse\n",
      "76\n",
      "77\n",
      "Mickey\n",
      "79\n",
      "Mouse\n",
      "Mickey\n",
      "82\n",
      "83\n",
      "Mickey\n",
      "Mouse\n",
      "86\n",
      "Mickey\n",
      "88\n",
      "89\n",
      "MickeyMouse\n",
      "91\n",
      "92\n",
      "Mickey\n",
      "94\n",
      "Mouse\n",
      "Mickey\n",
      "97\n",
      "98\n",
      "Mickey\n",
      "Mouse\n"
     ]
    }
   ],
   "source": [
    "for num in range(1, 101):\n",
    "    if num%5 == 0 and num%3 == 0:\n",
    "        print(\"MickeyMouse\")\n",
    "    elif num%3 == 0:\n",
    "        print(\"Mickey\")\n",
    "    elif num%5 == 0:\n",
    "        print(\"Mouse\")\n",
    "    else:\n",
    "        print(num)"
   ]
  },
  {
   "cell_type": "markdown",
   "metadata": {},
   "source": [
    "##### b)"
   ]
  },
  {
   "cell_type": "code",
   "execution_count": 5,
   "metadata": {},
   "outputs": [
    {
     "name": "stdout",
     "output_type": "stream",
     "text": [
      "(1, 2, 'Donald', 4, 'Duck', 'Donald', 7, 8, 'Donald', 'Duck', 11, 'Donald', 13, 14, 'DonaldDuck', 16, 17, 'Donald', 19, 'Duck', 'Donald', 22, 23, 'Donald', 'Duck', 26, 'Donald', 28, 29, 'DonaldDuck', 31, 32, 'Donald', 34, 'Duck', 'Donald', 37, 38, 'Donald', 'Duck', 41, 'Donald', 43, 44, 'DonaldDuck', 46, 47, 'Donald', 49, 'Duck', 'Donald', 52, 53, 'Donald', 'Duck', 56, 'Donald', 58, 59, 'DonaldDuck', 61, 62, 'Donald', 64, 'Duck', 'Donald', 67, 68, 'Donald', 'Duck', 71, 'Donald', 73, 74, 'DonaldDuck', 76, 77, 'Donald', 79, 'Duck', 'Donald', 82, 83, 'Donald', 'Duck', 86, 'Donald', 88, 89, 'DonaldDuck', 91, 92, 'Donald', 94, 'Duck', 'Donald', 97, 98, 'Donald', 'Duck')\n"
     ]
    }
   ],
   "source": [
    "num_tuple = ()\n",
    "for num in range(1, 101):\n",
    "    if (num%5 == 0) and (num%3 == 0):\n",
    "        num_tuple += (\"DonaldDuck\",)\n",
    "    elif num%3 == 0:\n",
    "        num_tuple += (\"Donald\",)\n",
    "    elif num%5 == 0:\n",
    "        num_tuple += (\"Duck\",)\n",
    "    else:\n",
    "        num_tuple+= (num,)\n",
    "\n",
    "print(num_tuple)"
   ]
  },
  {
   "cell_type": "markdown",
   "metadata": {},
   "source": [
    "2\\. The swap function\n",
    "\n",
    "Write a function that swap the values of two input variables x and y (whatever the type). Try to do that also without a temporary variable"
   ]
  },
  {
   "cell_type": "code",
   "execution_count": 8,
   "metadata": {},
   "outputs": [
    {
     "name": "stdout",
     "output_type": "stream",
     "text": [
      "Value of x: 12\n",
      "Value of y: 55\n",
      "12 55\n",
      "55 12\n"
     ]
    }
   ],
   "source": [
    "x = input(\"Value of x: \")\n",
    "y = input(\"Value of y: \")\n",
    "\n",
    "print(x, y)\n",
    "\n",
    "y, x = x, y\n",
    "\n",
    "print(x, y)"
   ]
  },
  {
   "cell_type": "markdown",
   "metadata": {},
   "source": [
    "3\\. Computing the distance\n",
    "\n",
    "Write a function that calculates and returns the euclidean distance between two points *u* and *v*, where *u* and *v* are both 2-tuples *(x,y)*. For example, if *u=(3,0)* and *v=(0,4)*, the function should return 5"
   ]
  },
  {
   "cell_type": "code",
   "execution_count": 11,
   "metadata": {},
   "outputs": [
    {
     "data": {
      "text/plain": [
       "5.0"
      ]
     },
     "execution_count": 11,
     "metadata": {},
     "output_type": "execute_result"
    }
   ],
   "source": [
    "def euclidean_distance(u, v):\n",
    "    return ((u[0]-v[0])**2 + (u[1]-v[1])**2)**(1/2)\n",
    "\n",
    "euclidean_distance((3,0), (0,4))"
   ]
  },
  {
   "cell_type": "markdown",
   "metadata": {},
   "source": [
    "4\\. Counting letters\n",
    "\n",
    "Write a program to calculate the number of times each character occurs in a given string *s*. Ignore differneces in capitalization"
   ]
  },
  {
   "cell_type": "code",
   "execution_count": 15,
   "metadata": {},
   "outputs": [
    {
     "name": "stdout",
     "output_type": "stream",
     "text": [
      "[('w', 1), ('r', 1), ('i', 1), ('t', 1), ('e', 1), (' ', 1), ('a', 1), (' ', 1), ('p', 1), ('r', 1), ('o', 1), ('g', 1), ('r', 1), ('a', 1), ('m', 1), (' ', 1), ('t', 1), ('h', 1), ('a', 1), ('t', 1), (' ', 1), ('p', 1), ('r', 1), ('i', 1), ('n', 1), ('t', 1), ('s', 1), (' ', 1), ('t', 1), ('h', 1), ('e', 1), (' ', 1), ('n', 1), ('u', 1), ('m', 1), ('b', 1), ('e', 1), ('r', 1), ('s', 1), (' ', 1), ('f', 1), ('r', 1), ('o', 1), ('m', 1), (' ', 1), ('1', 1), (' ', 1), ('t', 1), ('o', 1), (' ', 1), ('1', 1), ('0', 1), ('0', 1), ('.', 1), (' ', 1), ('b', 1), ('u', 1), ('t', 1), (' ', 1), ('f', 1), ('o', 1), ('r', 1), (' ', 1), ('m', 1), ('u', 1), ('l', 1), ('t', 1), ('i', 1), ('p', 1), ('l', 1), ('e', 1), ('s', 1), (' ', 1), ('o', 1), ('f', 1), (' ', 1), ('t', 1), ('h', 1), ('r', 1), ('e', 1), ('e', 1), (' ', 1), ('p', 1), ('r', 1), ('i', 1), ('n', 1), ('t', 1), (' ', 1), ('m', 1), ('i', 1), ('c', 1), ('k', 1), ('e', 1), ('y', 1), (' ', 1), ('i', 1), ('n', 1), ('s', 1), ('t', 1), ('e', 1), ('a', 1), ('d', 1), (' ', 1), ('o', 1), ('f', 1), (' ', 1), ('t', 1), ('h', 1), ('e', 1), (' ', 1), ('n', 1), ('u', 1), ('m', 1), ('b', 1), ('e', 1), ('r', 1), (' ', 1), ('a', 1), ('n', 1), ('d', 1), (' ', 1), ('f', 1), ('o', 1), ('r', 1), (' ', 1), ('t', 1), ('h', 1), ('e', 1), (' ', 1), ('m', 1), ('u', 1), ('l', 1), ('t', 1), ('i', 1), ('p', 1), ('l', 1), ('e', 1), ('s', 1), (' ', 1), ('o', 1), ('f', 1), (' ', 1), ('f', 1), ('i', 1), ('v', 1), ('e', 1), (' ', 1), ('p', 1), ('r', 1), ('i', 1), ('n', 1), ('t', 1), (' ', 1), ('m', 1), ('o', 1), ('u', 1), ('s', 1), ('e', 1), ('.', 1), (' ', 1), ('f', 1), ('o', 1), ('r', 1), (' ', 1), ('n', 1), ('u', 1), ('m', 1), ('b', 1), ('e', 1), ('r', 1), ('s', 1), (' ', 1), ('w', 1), ('h', 1), ('i', 1), ('c', 1), ('h', 1), (' ', 1), ('a', 1), ('r', 1), ('e', 1), (' ', 1), ('m', 1), ('u', 1), ('l', 1), ('t', 1), ('i', 1), ('p', 1), ('l', 1), ('e', 1), ('s', 1), (' ', 1), ('o', 1), ('f', 1), (' ', 1), ('b', 1), ('o', 1), ('t', 1), ('h', 1), (' ', 1), ('t', 1), ('h', 1), ('r', 1), ('e', 1), ('e', 1), (' ', 1), ('a', 1), ('n', 1), ('d', 1), (' ', 1), ('f', 1), ('i', 1), ('v', 1), ('e', 1), (' ', 1), ('p', 1), ('r', 1), ('i', 1), ('n', 1), ('t', 1), (' ', 1), ('m', 1), ('i', 1), ('c', 1), ('k', 1), ('e', 1), ('y', 1), ('m', 1), ('o', 1), ('u', 1), ('s', 1), ('e', 1)]\n"
     ]
    }
   ],
   "source": [
    "s=\"Write a program that prints the numbers from 1 to 100. \\\n",
    "But for multiples of three print Mickey instead of the number and for the multiples of five print Mouse. \\\n",
    "For numbers which are multiples of both three and five print MickeyMouse\"\n",
    "\n",
    "s = s.lower()\n",
    "char_list = []\n",
    "for char in s:\n",
    "    if char not in char_list:\n",
    "        char_list.append((char, 1))\n",
    "print(char_list)"
   ]
  },
  {
   "cell_type": "code",
   "execution_count": null,
   "metadata": {},
   "outputs": [],
   "source": [
    "s"
   ]
  },
  {
   "cell_type": "markdown",
   "metadata": {},
   "source": [
    "5\\. Isolating the unique\n",
    "\n",
    "Write a function that determines and count the unique numbers in the list *l*"
   ]
  },
  {
   "cell_type": "code",
   "execution_count": 26,
   "metadata": {
    "scrolled": true
   },
   "outputs": [
    {
     "name": "stdout",
     "output_type": "stream",
     "text": [
      "[36, 45, 58, 3, 74, 96, 64, 31, 10, 24, 19, 33, 86, 99, 18, 63, 70, 85, 47, 56, 42, 84, 88, 55, 20, 54, 8, 51, 79, 81, 57, 37, 91, 1, 66, 9, 89, 50, 95, 90, 98, 39, 16, 82, 92, 41, 30, 34, 94, 5, 72, 87, 75, 53]\n",
      "54\n"
     ]
    }
   ],
   "source": [
    "l = [36, 45, 58, 3, 74, 96, 64, 45, 31, 10, 24, 19, 33, 86, 99, 18, 63, 70, 85,\n",
    " 85, 63, 47, 56, 42, 70, 84, 88, 55, 20, 54, 8, 56, 51, 79, 81, 57, 37, 91,\n",
    " 1, 84, 84, 36, 66, 9, 89, 50, 42, 91, 50, 95, 90, 98, 39, 16, 82, 31, 92, 41,\n",
    " 45, 30, 66, 70, 34, 85, 94, 5, 3, 36, 72, 91, 84, 34, 87, 75, 53, 51, 20, 89, 51, 20]\n",
    "\n",
    "def count_unique(l):\n",
    "    unique_l = []\n",
    "    for num in l:\n",
    "        if num not in unique_l:\n",
    "            unique_l.append(num)\n",
    "    return unique_l\n",
    "\n",
    "print(count_unique(l))\n",
    "print(len(count_unique(l)))\n"
   ]
  },
  {
   "cell_type": "markdown",
   "metadata": {},
   "source": [
    "6\\. Combination of functions\n",
    "\n",
    "Write two functions - one that returns the square of a number, and one that returns the cube. Now write a third function that returns the number raised to the 6th power using the two previous functions."
   ]
  },
  {
   "cell_type": "code",
   "execution_count": 18,
   "metadata": {},
   "outputs": [
    {
     "name": "stdout",
     "output_type": "stream",
     "text": [
      "64\n"
     ]
    }
   ],
   "source": [
    "def square(x):\n",
    "    return x**2\n",
    "def cubic(x):\n",
    "    return x**3\n",
    "def power_6th(x):\n",
    "    return cubic(square(x))\n",
    "print(power_6th(2))"
   ]
  },
  {
   "cell_type": "markdown",
   "metadata": {},
   "source": [
    "7\\. Cubes\n",
    "\n",
    "Create a list of the cubes of x for x in *[0, 10]* using:\n",
    "\n",
    "a) a for loop\n",
    "\n",
    "b) a list comprehension"
   ]
  },
  {
   "cell_type": "code",
   "execution_count": 20,
   "metadata": {},
   "outputs": [
    {
     "name": "stdout",
     "output_type": "stream",
     "text": [
      "[0, 1, 8, 27, 64, 125, 216, 343, 512, 729, 1000]\n",
      "[0, 1, 8, 27, 64, 125, 216, 343, 512, 729, 1000]\n"
     ]
    }
   ],
   "source": [
    "cub_list = []\n",
    "for num in range(11):\n",
    "    cub_list.append(num**3)\n",
    "print(cub_list)\n",
    "\n",
    "cub_list_comp = [x**3 for x in range(11)]\n",
    "print(cub_list_comp)"
   ]
  },
  {
   "cell_type": "markdown",
   "metadata": {},
   "source": [
    "8\\. Nested list comprehension\n",
    "\n",
    "A Pythagorean triple is an integer solution to the Pythagorean theorem $a^2+b^2=c^2$. The first Pythagorean triple is (3,4,5). Find and put in a tuple all unique Pythagorean triples for the positive integers a, b and c less than 100."
   ]
  },
  {
   "cell_type": "code",
   "execution_count": null,
   "metadata": {},
   "outputs": [],
   "source": []
  },
  {
   "cell_type": "markdown",
   "metadata": {},
   "source": [
    "9\\. Normalization\n",
    "\n",
    "Write a function that takes a tuple of numbers and returns it with the entries normalized to one"
   ]
  },
  {
   "cell_type": "code",
   "execution_count": 27,
   "metadata": {},
   "outputs": [
    {
     "ename": "TypeError",
     "evalue": "can only concatenate tuple (not \"float\") to tuple",
     "output_type": "error",
     "traceback": [
      "\u001b[0;31m---------------------------------------------------------------------------\u001b[0m",
      "\u001b[0;31mTypeError\u001b[0m                                 Traceback (most recent call last)",
      "Input \u001b[0;32mIn [27]\u001b[0m, in \u001b[0;36m<cell line: 10>\u001b[0;34m()\u001b[0m\n\u001b[1;32m      7\u001b[0m         normalized_tuple \u001b[38;5;241m+\u001b[39m\u001b[38;5;241m=\u001b[39m (num\u001b[38;5;241m/\u001b[39m(total_square\u001b[38;5;241m*\u001b[39m\u001b[38;5;241m*\u001b[39m(\u001b[38;5;241m1\u001b[39m\u001b[38;5;241m/\u001b[39m\u001b[38;5;241m2\u001b[39m)))\n\u001b[1;32m      8\u001b[0m     \u001b[38;5;28;01mreturn\u001b[39;00m normalized_tuple\n\u001b[0;32m---> 10\u001b[0m \u001b[38;5;28mprint\u001b[39m(\u001b[43mnormalize_tuple\u001b[49m\u001b[43m(\u001b[49m\u001b[43m(\u001b[49m\u001b[38;5;241;43m1\u001b[39;49m\u001b[43m,\u001b[49m\u001b[43m \u001b[49m\u001b[38;5;241;43m0\u001b[39;49m\u001b[43m,\u001b[49m\u001b[43m \u001b[49m\u001b[38;5;241;43m2\u001b[39;49m\u001b[43m,\u001b[49m\u001b[43m \u001b[49m\u001b[38;5;241;43m1\u001b[39;49m\u001b[43m)\u001b[49m\u001b[43m)\u001b[49m)\n",
      "Input \u001b[0;32mIn [27]\u001b[0m, in \u001b[0;36mnormalize_tuple\u001b[0;34m(t)\u001b[0m\n\u001b[1;32m      5\u001b[0m normalized_tuple \u001b[38;5;241m=\u001b[39m ()\n\u001b[1;32m      6\u001b[0m \u001b[38;5;28;01mfor\u001b[39;00m num \u001b[38;5;129;01min\u001b[39;00m t:\n\u001b[0;32m----> 7\u001b[0m     normalized_tuple \u001b[38;5;241m+\u001b[39m\u001b[38;5;241m=\u001b[39m (num\u001b[38;5;241m/\u001b[39m(total_square\u001b[38;5;241m*\u001b[39m\u001b[38;5;241m*\u001b[39m(\u001b[38;5;241m1\u001b[39m\u001b[38;5;241m/\u001b[39m\u001b[38;5;241m2\u001b[39m)))\n\u001b[1;32m      8\u001b[0m \u001b[38;5;28;01mreturn\u001b[39;00m normalized_tuple\n",
      "\u001b[0;31mTypeError\u001b[0m: can only concatenate tuple (not \"float\") to tuple"
     ]
    }
   ],
   "source": [
    "def normalize_tuple(t):\n",
    "    total_square = 0\n",
    "    for num in t:\n",
    "        total_square += num**2\n",
    "    normalized_tuple = ()\n",
    "    for num in t:\n",
    "        normalized_tuple += (num/(total_square**(1/2)),)\n",
    "    return normalized_tuple\n",
    "\n",
    "print(normalize_tuple((1, 0, 2, 1)))"
   ]
  },
  {
   "cell_type": "code",
   "execution_count": null,
   "metadata": {},
   "outputs": [],
   "source": []
  }
 ],
 "metadata": {
  "kernelspec": {
   "display_name": "Python 3 (ipykernel)",
   "language": "python",
   "name": "python3"
  },
  "language_info": {
   "codemirror_mode": {
    "name": "ipython",
    "version": 3
   },
   "file_extension": ".py",
   "mimetype": "text/x-python",
   "name": "python",
   "nbconvert_exporter": "python",
   "pygments_lexer": "ipython3",
   "version": "3.9.12"
  }
 },
 "nbformat": 4,
 "nbformat_minor": 2
}
